{
 "cells": [
  {
   "cell_type": "code",
   "execution_count": 8,
   "metadata": {},
   "outputs": [
    {
     "name": "stdout",
     "output_type": "stream",
     "text": [
      "The autoreload extension is already loaded. To reload it, use:\n",
      "  %reload_ext autoreload\n"
     ]
    }
   ],
   "source": [
    "%load_ext autoreload\n",
    "%autoreload 2"
   ]
  },
  {
   "cell_type": "code",
   "execution_count": 9,
   "metadata": {},
   "outputs": [],
   "source": [
    "import os \n",
    "while os.path.split(os.getcwd())[1].lower() != \"deuce-deep-probabilistic-nowcasting\":\n",
    "    os.chdir(\"..\")\n",
    "\n",
    "from pathlib import Path\n",
    "\n",
    "import numpy as np\n",
    "from tqdm import tqdm\n",
    "import matplotlib.pyplot as plt\n",
    "import matplotlib.ticker as ticker\n",
    "\n",
    "from datamodules import FMICompositeDataModule\n",
    "from utils import load_config"
   ]
  },
  {
   "cell_type": "code",
   "execution_count": 10,
   "metadata": {},
   "outputs": [],
   "source": [
    "cfg_path = \"config/data_distribution/\"\n",
    "data_name = \"fmi\"\n",
    "platform = \"athras\"\n",
    "SAVEFIG = False\n",
    "\n",
    "platform_cfg = load_config(cfg_path / Path(f\"{data_name}_platform.yaml\"))\n",
    "data_cfg = load_config(cfg_path / Path(f\"{data_name}_dataset.yaml\"))\n",
    "data_cfg.update(platform_cfg)\n",
    "\n",
    "plt.style.use(\"bmh\")"
   ]
  },
  {
   "cell_type": "code",
   "execution_count": 11,
   "metadata": {},
   "outputs": [],
   "source": [
    "dm = FMICompositeDataModule(data_cfg)\n",
    "dm.setup(stage=\"fit\")"
   ]
  },
  {
   "cell_type": "code",
   "execution_count": 12,
   "metadata": {},
   "outputs": [],
   "source": [
    "n_bins = 92\n",
    "rng = (-32,60)\n",
    "hists = {}\n",
    "splits = [\"train\", \"valid\", \"test\"]"
   ]
  },
  {
   "cell_type": "code",
   "execution_count": 13,
   "metadata": {},
   "outputs": [],
   "source": [
    "TITLES = {\n",
    "    \"train\": \"(a) Training data set\",\n",
    "    \"valid\": \"(b) Validation data set\",\n",
    "    \"test\": \"(c) verification data set\",\n",
    "}"
   ]
  },
  {
   "cell_type": "code",
   "execution_count": 14,
   "metadata": {},
   "outputs": [
    {
     "name": "stderr",
     "output_type": "stream",
     "text": [
      "/home/users/harnist/deuce-deep-probabilistic-nowcasting/datasets/fmi_dataset.py:155: FutureWarning: The behavior of DatetimeProperties.to_pydatetime is deprecated, in a future version this will return a Series containing python datetime objects instead of an ndarray. To retain the old behavior, call `np.array` on the result\n",
      "  return self.windows.iloc[ds_index].dt.to_pydatetime()\n"
     ]
    },
    {
     "data": {
      "text/plain": [
       "{'inputs': tensor([[[-32., -32., -32.,  ..., -32., -32., -32.],\n",
       "          [-32., -32., -32.,  ..., -32., -32., -32.],\n",
       "          [-32., -32., -32.,  ..., -32., -32., -32.],\n",
       "          ...,\n",
       "          [-32., -32., -32.,  ..., -32., -32., -32.],\n",
       "          [-32., -32., -32.,  ..., -32., -32., -32.],\n",
       "          [-32., -32., -32.,  ..., -32., -32., -32.]]]),\n",
       " 'outputs': tensor([], size=(0, 512, 512)),\n",
       " 'idx': 1,\n",
       " 'weights': tensor([1.])}"
      ]
     },
     "execution_count": 14,
     "metadata": {},
     "output_type": "execute_result"
    }
   ],
   "source": [
    "dm.test_dataset.__getitem__(1)"
   ]
  },
  {
   "cell_type": "code",
   "execution_count": 15,
   "metadata": {},
   "outputs": [
    {
     "name": "stderr",
     "output_type": "stream",
     "text": [
      "  0%|          | 0/306 [00:00<?, ?it/s]"
     ]
    },
    {
     "name": "stderr",
     "output_type": "stream",
     "text": [
      "100%|██████████| 306/306 [00:21<00:00, 14.21it/s]\n",
      "100%|██████████| 1980/1980 [01:44<00:00, 18.95it/s]\n",
      "100%|██████████| 333/333 [00:21<00:00, 15.37it/s]\n"
     ]
    }
   ],
   "source": [
    "hist = None\n",
    "bins = None\n",
    "count = 0\n",
    "n = 0\n",
    "\n",
    "for i, batch in enumerate(tqdm(dm.test_dataloader())):\n",
    "    x = batch[\"inputs\"][:, -1, :, :].numpy()\n",
    "    x[x < 8] = -10\n",
    "    h_, bins = np.histogram(\n",
    "                x.ravel(), bins=n_bins, range=rng\n",
    "            )\n",
    "    count += sum(h_)\n",
    "    if hist is None:\n",
    "        hist = h_\n",
    "    else:\n",
    "        hist += h_\n",
    "\n",
    "hists[\"test\"] = {\n",
    "            \"hist\": hist,\n",
    "            \"count\": count,\n",
    "        }\n",
    "\n",
    "hist = None\n",
    "bins = None\n",
    "count = 0\n",
    "n = 0\n",
    "\n",
    "for i, batch in enumerate(tqdm(dm.train_dataloader())):\n",
    "    x = batch[\"inputs\"][:, -1, :, :].numpy()\n",
    "    x[x < 8] = -10\n",
    "    h_, bins = np.histogram(\n",
    "                x.ravel(), bins=n_bins, range=rng\n",
    "            )\n",
    "    count += sum(h_)\n",
    "    if hist is None:\n",
    "        hist = h_\n",
    "    else:\n",
    "        hist += h_\n",
    "\n",
    "hists[\"train\"] = {\n",
    "            \"hist\": hist,\n",
    "            \"count\": count,\n",
    "        }\n",
    "\n",
    "hist = None\n",
    "bins = None\n",
    "count = 0\n",
    "n = 0\n",
    "\n",
    "for i, batch in enumerate(tqdm(dm.val_dataloader())):\n",
    "    x = batch[\"inputs\"][:, -1, :, :].numpy()\n",
    "    x[x < 8] = -10\n",
    "    h_, bins = np.histogram(\n",
    "                x.ravel(), bins=n_bins, range=rng\n",
    "            )\n",
    "    count += sum(h_)\n",
    "    if hist is None:\n",
    "        hist = h_\n",
    "    else:\n",
    "        hist += h_\n",
    "\n",
    "hists[\"valid\"] = {\n",
    "            \"hist\": hist,\n",
    "            \"count\": count,\n",
    "        }\n"
   ]
  },
  {
   "cell_type": "code",
   "execution_count": 16,
   "metadata": {},
   "outputs": [],
   "source": [
    "%matplotlib inline"
   ]
  },
  {
   "cell_type": "code",
   "execution_count": 17,
   "metadata": {},
   "outputs": [],
   "source": [
    "hists[\"all\"] = {\n",
    "    \"hist\" : sum([hists[split][\"hist\"] for split in splits]),\n",
    "    \"count\" : sum([hists[split][\"count\"] for split in splits]),\n",
    "}"
   ]
  },
  {
   "cell_type": "code",
   "execution_count": 18,
   "metadata": {},
   "outputs": [],
   "source": [
    "hists[\"all\"][\"density\"] = hists[\"all\"][\"hist\"] / hists[\"all\"][\"count\"]"
   ]
  },
  {
   "cell_type": "code",
   "execution_count": 26,
   "metadata": {},
   "outputs": [
    {
     "name": "stderr",
     "output_type": "stream",
     "text": [
      "/tmp/ipykernel_3580840/1281347982.py:1: RuntimeWarning: divide by zero encountered in scalar divide\n",
      "  weighting = {int(bin) : 1 / density for bin, density in zip(bins, hists[\"all\"][\"density\"])}\n"
     ]
    }
   ],
   "source": [
    "weighting = {int(bin) : 1 / density for bin, density in zip(bins, hists[\"all\"][\"density\"])}"
   ]
  },
  {
   "cell_type": "code",
   "execution_count": 27,
   "metadata": {},
   "outputs": [
    {
     "data": {
      "text/plain": [
       "{-32: inf,\n",
       " -31: inf,\n",
       " -30: inf,\n",
       " -29: inf,\n",
       " -28: inf,\n",
       " -27: inf,\n",
       " -26: inf,\n",
       " -25: inf,\n",
       " -24: inf,\n",
       " -23: inf,\n",
       " -22: inf,\n",
       " -21: inf,\n",
       " -20: inf,\n",
       " -19: inf,\n",
       " -18: inf,\n",
       " -17: inf,\n",
       " -16: inf,\n",
       " -15: inf,\n",
       " -14: inf,\n",
       " -13: inf,\n",
       " -12: inf,\n",
       " -11: inf,\n",
       " -10: 1.1858602217779428,\n",
       " -9: inf,\n",
       " -8: inf,\n",
       " -7: inf,\n",
       " -6: inf,\n",
       " -5: inf,\n",
       " -4: inf,\n",
       " -3: inf,\n",
       " -2: inf,\n",
       " -1: inf,\n",
       " 0: inf,\n",
       " 1: inf,\n",
       " 2: inf,\n",
       " 3: inf,\n",
       " 4: inf,\n",
       " 5: inf,\n",
       " 6: inf,\n",
       " 7: inf,\n",
       " 8: 157.59045669368243,\n",
       " 9: 156.71334155166025,\n",
       " 10: 155.37572312384978,\n",
       " 11: 153.80482526516326,\n",
       " 12: 152.01985128379232,\n",
       " 13: 150.17613057343084,\n",
       " 14: 148.30553380788925,\n",
       " 15: 146.5355750520484,\n",
       " 16: 145.06363523442423,\n",
       " 17: 143.94495070699563,\n",
       " 18: 143.49559115579893,\n",
       " 19: 143.77768090983986,\n",
       " 20: 145.09375972970975,\n",
       " 21: 147.52039550564018,\n",
       " 22: 151.30833292837076,\n",
       " 23: 156.7914024330296,\n",
       " 24: 164.2676300576479,\n",
       " 25: 174.00919583331407,\n",
       " 26: 186.44196901712962,\n",
       " 27: 201.94332568066676,\n",
       " 28: 221.61630282661224,\n",
       " 29: 246.90667967093552,\n",
       " 30: 279.28628187197336,\n",
       " 31: 322.44098986388235,\n",
       " 32: 380.6429210798859,\n",
       " 33: 460.28378513709146,\n",
       " 34: 571.1439256865241,\n",
       " 35: 726.9246482235118,\n",
       " 36: 943.6650013538755,\n",
       " 37: 1242.3363530486035,\n",
       " 38: 1639.9978829836375,\n",
       " 39: 2152.0472119467454,\n",
       " 40: 2801.659146184703,\n",
       " 41: 3599.3647420257716,\n",
       " 42: 4597.4189133650125,\n",
       " 43: 5812.6530752631725,\n",
       " 44: 7378.106871890213,\n",
       " 45: 9361.437833747224,\n",
       " 46: 11987.358474505987,\n",
       " 47: 15569.155103649047,\n",
       " 48: 20497.84972681674,\n",
       " 49: 27707.13018079826,\n",
       " 50: 38126.05740663613,\n",
       " 51: 53740.49519094351,\n",
       " 52: 77277.76444269353,\n",
       " 53: 114081.20947138852,\n",
       " 54: 174224.89547977797,\n",
       " 55: 274828.11258443835,\n",
       " 56: 442902.9779856463,\n",
       " 57: 763475.0945232138,\n",
       " 58: 1371395.7128589263,\n",
       " 59: 2105996.8673312883}"
      ]
     },
     "execution_count": 27,
     "metadata": {},
     "output_type": "execute_result"
    }
   ],
   "source": [
    "weighting"
   ]
  },
  {
   "cell_type": "code",
   "execution_count": 21,
   "metadata": {},
   "outputs": [],
   "source": [
    "import torch\n",
    "\n",
    "#torch.save(weighting, \"weight_mapping.pt\")"
   ]
  },
  {
   "cell_type": "code",
   "execution_count": 35,
   "metadata": {},
   "outputs": [
    {
     "data": {
      "text/plain": [
       "{-32.0: inf,\n",
       " -31.0: inf,\n",
       " -30.0: inf,\n",
       " -29.0: inf,\n",
       " -28.0: inf,\n",
       " -27.0: inf,\n",
       " -26.0: inf,\n",
       " -25.0: inf,\n",
       " -24.0: inf,\n",
       " -23.0: inf,\n",
       " -22.0: inf,\n",
       " -21.0: inf,\n",
       " -20.0: inf,\n",
       " -19.0: inf,\n",
       " -18.0: inf,\n",
       " -17.0: inf,\n",
       " -16.0: inf,\n",
       " -15.0: inf,\n",
       " -14.0: inf,\n",
       " -13.0: inf,\n",
       " -12.0: inf,\n",
       " -11.0: inf,\n",
       " -10.0: 1.1858602217779428,\n",
       " -9.0: inf,\n",
       " -8.0: inf,\n",
       " -7.0: inf,\n",
       " -6.0: inf,\n",
       " -5.0: inf,\n",
       " -4.0: inf,\n",
       " -3.0: inf,\n",
       " -2.0: inf,\n",
       " -1.0: inf,\n",
       " 0.0: inf,\n",
       " 1.0: inf,\n",
       " 2.0: inf,\n",
       " 3.0: inf,\n",
       " 4.0: inf,\n",
       " 5.0: inf,\n",
       " 6.0: inf,\n",
       " 7.0: inf,\n",
       " 8.0: 157.59045669368243,\n",
       " 9.0: 156.71334155166025,\n",
       " 10.0: 155.37572312384978,\n",
       " 11.0: 153.80482526516326,\n",
       " 12.0: 152.01985128379232,\n",
       " 13.0: 150.17613057343084,\n",
       " 14.0: 148.30553380788925,\n",
       " 15.0: 146.5355750520484,\n",
       " 16.0: 145.06363523442423,\n",
       " 17.0: 143.94495070699563,\n",
       " 18.0: 143.49559115579893,\n",
       " 19.0: 143.77768090983986,\n",
       " 20.0: 145.09375972970975,\n",
       " 21.0: 147.52039550564018,\n",
       " 22.0: 151.30833292837076,\n",
       " 23.0: 156.7914024330296,\n",
       " 24.0: 164.2676300576479,\n",
       " 25.0: 174.00919583331407,\n",
       " 26.0: 186.44196901712962,\n",
       " 27.0: 201.94332568066676,\n",
       " 28.0: 221.61630282661224,\n",
       " 29.0: 246.90667967093552,\n",
       " 30.0: 279.28628187197336,\n",
       " 31.0: 322.44098986388235,\n",
       " 32.0: 380.6429210798859,\n",
       " 33.0: 460.28378513709146,\n",
       " 34.0: 571.1439256865241,\n",
       " 35.0: 726.9246482235118,\n",
       " 36.0: 943.6650013538755,\n",
       " 37.0: 1242.3363530486035,\n",
       " 38.0: 1639.9978829836375,\n",
       " 39.0: 2152.0472119467454,\n",
       " 40.0: 2801.659146184703,\n",
       " 41.0: 3599.3647420257716,\n",
       " 42.0: 4597.4189133650125,\n",
       " 43.0: 5812.6530752631725,\n",
       " 44.0: 7378.106871890213,\n",
       " 45.0: 9361.437833747224,\n",
       " 46.0: 11987.358474505987,\n",
       " 47.0: 15569.155103649047,\n",
       " 48.0: 20497.84972681674,\n",
       " 49.0: 27707.13018079826,\n",
       " 50.0: 38126.05740663613,\n",
       " 51.0: 53740.49519094351,\n",
       " 52.0: 77277.76444269353,\n",
       " 53.0: 114081.20947138852,\n",
       " 54.0: 174224.89547977797,\n",
       " 55.0: 274828.11258443835,\n",
       " 56.0: 442902.9779856463,\n",
       " 57.0: 763475.0945232138,\n",
       " 58.0: 1371395.7128589263,\n",
       " 59.0: 2105996.8673312883}"
      ]
     },
     "execution_count": 35,
     "metadata": {},
     "output_type": "execute_result"
    }
   ],
   "source": [
    "torch.load(\"weight_mapping.pt\")"
   ]
  },
  {
   "cell_type": "code",
   "execution_count": 31,
   "metadata": {},
   "outputs": [
    {
     "data": {
      "image/png": "[encoded data removed]",
      "text/plain": [
       "<Figure size 700x500 with 1 Axes>"
      ]
     },
     "metadata": {},
     "output_type": "display_data"
    }
   ],
   "source": [
    "_, bins = np.histogram([], bins=n_bins, range=rng)\n",
    "\n",
    "ncols = 1\n",
    "nrows = 1\n",
    "fig, ax = plt.subplots(\n",
    "    figsize=(7*ncols, 5),\n",
    "    nrows=nrows,\n",
    "    ncols=ncols,\n",
    "    squeeze=True,\n",
    "    sharex=\"row\",\n",
    ")\n",
    "\n",
    "width = bins[-1] - bins[-2]\n",
    "\n",
    "ax.set_title(\"FMI reflectivity dataset distribution\", fontweight=\"semibold\")\n",
    "\n",
    "ax.bar(\n",
    "        bins[40:-1],\n",
    "        hists[\"all\"][\"density\"][40:],\n",
    "        width=width,\n",
    "        align=\"edge\",\n",
    "        color=\"gray\",\n",
    "        edgecolor=\"k\",\n",
    "        zorder=10,\n",
    "        label=\"retained pixels\"\n",
    "    )\n",
    "ax.bar(\n",
    "        bins[:40],\n",
    "        hists[\"all\"][\"density\"][:40],\n",
    "        width=width,\n",
    "        align=\"edge\",\n",
    "        color=\"gray\",\n",
    "        edgecolor=\"k\",\n",
    "        zorder=10,\n",
    "        alpha=0.3,\n",
    "        label = \"removed pixels\"\n",
    "    )\n",
    "ax.vlines(x=[9.0], ymin=0, ymax=0.04, colors=\"k\", linestyles=\"dashed\", linewidth=2, label=\"8 dBZ threshold\")\n",
    "\n",
    "def gaus(x, a, x0, sigma):\n",
    "    return a * np.exp(-(x - x0) ** 2 / (2 * sigma ** 2))\n",
    "\n",
    "from scipy.optimize import curve_fit\n",
    "\n",
    "x_to_fit = np.arange(bins[51]-len(bins[51:-1]),bins[51]+len(bins[51:-1]) )\n",
    "y_to_fit = np.concatenate([hists[\"all\"][\"density\"][51:][::-1],hists[\"all\"][\"density\"][51:]])\n",
    "\n",
    "\n",
    "ax.xaxis.set_major_locator(ticker.MultipleLocator(20))\n",
    "ax.xaxis.set_minor_locator(ticker.MultipleLocator(5))\n",
    "ax.xaxis.set_major_formatter(ticker.ScalarFormatter(useMathText=True))\n",
    "ax.xaxis.set_minor_formatter(ticker.NullFormatter())\n",
    "\n",
    "ax.yaxis.set_major_locator(ticker.LogLocator(base=10.0))\n",
    "ax.set_ylim(bottom=0, top=1.0)\n",
    "ax.set_xlim(rng)\n",
    "ax.grid(which=\"major\", lw=0.5, color=\"tab:gray\", ls=\"-\", zorder=0)\n",
    "ax.grid(which=\"minor\", lw=0.5, color=\"tab:gray\", ls=\"-\", alpha=0.1, zorder=0)\n",
    "\n",
    "\n",
    "ax.set_yscale(\"log\")\n",
    "ax.legend()\n",
    "ax.set_ylabel(\"Density\")\n",
    "\n",
    "ax.set_xlabel(\"Reflectivity [dBZ]\")\n",
    "\n",
    "fig.tight_layout()\n",
    "fig.show()"
   ]
  },
  {
   "cell_type": "code",
   "execution_count": null,
   "metadata": {},
   "outputs": [],
   "source": []
  }
 ],
 "metadata": {
  "kernelspec": {
   "display_name": "pysteps_source",
   "language": "python",
   "name": "python3"
  },
  "language_info": {
   "codemirror_mode": {
    "name": "ipython",
    "version": 3
   },
   "file_extension": ".py",
   "mimetype": "text/x-python",
   "name": "python",
   "nbconvert_exporter": "python",
   "pygments_lexer": "ipython3",
   "version": "3.9.15"
  },
  "orig_nbformat": 4
 },
 "nbformat": 4,
 "nbformat_minor": 2
}
