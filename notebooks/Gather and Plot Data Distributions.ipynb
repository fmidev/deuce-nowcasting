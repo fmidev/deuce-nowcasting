{
 "cells": [
  {
   "cell_type": "code",
   "execution_count": 1,
   "metadata": {},
   "outputs": [],
   "source": [
    "%load_ext autoreload\n",
    "%autoreload 2"
   ]
  },
  {
   "cell_type": "code",
   "execution_count": 2,
   "metadata": {},
   "outputs": [
    {
     "name": "stderr",
     "output_type": "stream",
     "text": [
      "/home/users/harnist/miniconda3/envs/pytorch/lib/python3.9/site-packages/torchvision/io/image.py:13: UserWarning: Failed to load image Python extension: libc10_cuda.so: cannot open shared object file: No such file or directory\n",
      "  warn(f\"Failed to load image Python extension: {e}\")\n"
     ]
    },
    {
     "name": "stdout",
     "output_type": "stream",
     "text": [
      "\n",
      "## You are using the Python ARM Radar Toolkit (Py-ART), an open source\n",
      "## library for working with weather radar data. Py-ART is partly\n",
      "## supported by the U.S. Department of Energy as part of the Atmospheric\n",
      "## Radiation Measurement (ARM) Climate Research Facility, an Office of\n",
      "## Science user facility.\n",
      "##\n",
      "## If you use this software to prepare a publication, please cite:\n",
      "##\n",
      "##     JJ Helmus and SM Collis, JORS 2016, doi: 10.5334/jors.119\n",
      "\n"
     ]
    }
   ],
   "source": [
    "import os \n",
    "while os.path.split(os.getcwd())[1].lower() != \"deuce-deep-probabilistic-nowcasting\":\n",
    "    os.chdir(\"..\")\n",
    "\n",
    "from pathlib import Path\n",
    "\n",
    "import numpy as np\n",
    "from tqdm import tqdm\n",
    "import matplotlib.pyplot as plt\n",
    "import matplotlib.ticker as ticker\n",
    "\n",
    "from datamodules import FMICompositeDataModule\n",
    "from utils import load_config"
   ]
  },
  {
   "cell_type": "code",
   "execution_count": 3,
   "metadata": {},
   "outputs": [],
   "source": [
    "cfg_path = \"config/data_distribution/\"\n",
    "data_name = \"fmi\"\n",
    "platform = \"athras\"\n",
    "SAVEFIG = False\n",
    "\n",
    "platform_cfg = load_config(cfg_path / Path(f\"{data_name}_platform.yaml\"))\n",
    "data_cfg = load_config(cfg_path / Path(f\"{data_name}_dataset.yaml\"))\n",
    "data_cfg.update(platform_cfg)\n",
    "\n",
    "plt.style.use(\"bmh\")"
   ]
  },
  {
   "cell_type": "code",
   "execution_count": 38,
   "metadata": {},
   "outputs": [],
   "source": [
    "dm = FMICompositeDataModule(data_cfg)\n",
    "dm.setup(stage=\"fit\")"
   ]
  },
  {
   "cell_type": "code",
   "execution_count": 39,
   "metadata": {},
   "outputs": [],
   "source": [
    "n_bins = 91\n",
    "rng = (-31,60)\n",
    "hists = {}\n",
    "splits = [\"train\", \"valid\", \"test\"]"
   ]
  },
  {
   "cell_type": "code",
   "execution_count": 40,
   "metadata": {},
   "outputs": [],
   "source": [
    "TITLES = {\n",
    "    \"train\": \"(a) Training data set\",\n",
    "    \"valid\": \"(b) Validation data set\",\n",
    "    \"test\": \"(c) verification data set\",\n",
    "}"
   ]
  },
  {
   "cell_type": "code",
   "execution_count": 41,
   "metadata": {},
   "outputs": [
    {
     "name": "stderr",
     "output_type": "stream",
     "text": [
      "  0%|          | 0/306 [00:00<?, ?it/s]"
     ]
    },
    {
     "name": "stderr",
     "output_type": "stream",
     "text": [
      "/home/users/harnist/deuce-deep-probabilistic-nowcasting/datasets/fmi_dataset.py:155: FutureWarning: The behavior of DatetimeProperties.to_pydatetime is deprecated, in a future version this will return a Series containing python datetime objects instead of an ndarray. To retain the old behavior, call `np.array` on the result\n",
      "  return self.windows.iloc[ds_index].dt.to_pydatetime()\n",
      "/home/users/harnist/deuce-deep-probabilistic-nowcasting/datasets/fmi_dataset.py:155: FutureWarning: The behavior of DatetimeProperties.to_pydatetime is deprecated, in a future version this will return a Series containing python datetime objects instead of an ndarray. To retain the old behavior, call `np.array` on the result\n",
      "  return self.windows.iloc[ds_index].dt.to_pydatetime()\n",
      "/home/users/harnist/deuce-deep-probabilistic-nowcasting/datasets/fmi_dataset.py:155: FutureWarning: The behavior of DatetimeProperties.to_pydatetime is deprecated, in a future version this will return a Series containing python datetime objects instead of an ndarray. To retain the old behavior, call `np.array` on the result\n",
      "  return self.windows.iloc[ds_index].dt.to_pydatetime()\n",
      "/home/users/harnist/deuce-deep-probabilistic-nowcasting/datasets/fmi_dataset.py:155: FutureWarning: The behavior of DatetimeProperties.to_pydatetime is deprecated, in a future version this will return a Series containing python datetime objects instead of an ndarray. To retain the old behavior, call `np.array` on the result\n",
      "  return self.windows.iloc[ds_index].dt.to_pydatetime()\n",
      "/home/users/harnist/deuce-deep-probabilistic-nowcasting/datasets/fmi_dataset.py:155: FutureWarning: The behavior of DatetimeProperties.to_pydatetime is deprecated, in a future version this will return a Series containing python datetime objects instead of an ndarray. To retain the old behavior, call `np.array` on the result\n",
      "  return self.windows.iloc[ds_index].dt.to_pydatetime()\n",
      "/home/users/harnist/deuce-deep-probabilistic-nowcasting/datasets/fmi_dataset.py:155: FutureWarning: The behavior of DatetimeProperties.to_pydatetime is deprecated, in a future version this will return a Series containing python datetime objects instead of an ndarray. To retain the old behavior, call `np.array` on the result\n",
      "  return self.windows.iloc[ds_index].dt.to_pydatetime()\n",
      "/home/users/harnist/deuce-deep-probabilistic-nowcasting/datasets/fmi_dataset.py:155: FutureWarning: The behavior of DatetimeProperties.to_pydatetime is deprecated, in a future version this will return a Series containing python datetime objects instead of an ndarray. To retain the old behavior, call `np.array` on the result\n",
      "  return self.windows.iloc[ds_index].dt.to_pydatetime()\n",
      "/home/users/harnist/deuce-deep-probabilistic-nowcasting/datasets/fmi_dataset.py:155: FutureWarning: The behavior of DatetimeProperties.to_pydatetime is deprecated, in a future version this will return a Series containing python datetime objects instead of an ndarray. To retain the old behavior, call `np.array` on the result\n",
      "  return self.windows.iloc[ds_index].dt.to_pydatetime()\n",
      "/home/users/harnist/deuce-deep-probabilistic-nowcasting/datasets/fmi_dataset.py:155: FutureWarning: The behavior of DatetimeProperties.to_pydatetime is deprecated, in a future version this will return a Series containing python datetime objects instead of an ndarray. To retain the old behavior, call `np.array` on the result\n",
      "  return self.windows.iloc[ds_index].dt.to_pydatetime()\n",
      "/home/users/harnist/deuce-deep-probabilistic-nowcasting/datasets/fmi_dataset.py:155: FutureWarning: The behavior of DatetimeProperties.to_pydatetime is deprecated, in a future version this will return a Series containing python datetime objects instead of an ndarray. To retain the old behavior, call `np.array` on the result\n",
      "  return self.windows.iloc[ds_index].dt.to_pydatetime()\n",
      "100%|██████████| 306/306 [00:17<00:00, 17.63it/s]\n"
     ]
    }
   ],
   "source": [
    "hist = None\n",
    "bins = None\n",
    "count = 0\n",
    "n = 0\n",
    "\n",
    "for i, batch in enumerate(tqdm(dm.test_dataloader())):\n",
    "    h_, bins = np.histogram(\n",
    "                batch[\"inputs\"][:, -1, :, :].numpy().ravel(), bins=n_bins, range=rng\n",
    "            )\n",
    "    count += sum(h_)\n",
    "    if hist is None:\n",
    "        hist = h_\n",
    "    else:\n",
    "        hist += h_\n",
    "\n",
    "hists[\"test\"] = {\n",
    "            \"hist\": hist,\n",
    "            \"count\": count,\n",
    "        }\n"
   ]
  },
  {
   "cell_type": "code",
   "execution_count": 43,
   "metadata": {},
   "outputs": [
    {
     "name": "stderr",
     "output_type": "stream",
     "text": [
      "  0%|          | 0/1980 [00:00<?, ?it/s]/home/users/harnist/deuce-deep-probabilistic-nowcasting/datasets/fmi_dataset.py:155: FutureWarning: The behavior of DatetimeProperties.to_pydatetime is deprecated, in a future version this will return a Series containing python datetime objects instead of an ndarray. To retain the old behavior, call `np.array` on the result\n",
      "  return self.windows.iloc[ds_index].dt.to_pydatetime()\n",
      "/home/users/harnist/deuce-deep-probabilistic-nowcasting/datasets/fmi_dataset.py:155: FutureWarning: The behavior of DatetimeProperties.to_pydatetime is deprecated, in a future version this will return a Series containing python datetime objects instead of an ndarray. To retain the old behavior, call `np.array` on the result\n",
      "  return self.windows.iloc[ds_index].dt.to_pydatetime()\n",
      "/home/users/harnist/deuce-deep-probabilistic-nowcasting/datasets/fmi_dataset.py:155: FutureWarning: The behavior of DatetimeProperties.to_pydatetime is deprecated, in a future version this will return a Series containing python datetime objects instead of an ndarray. To retain the old behavior, call `np.array` on the result\n",
      "  return self.windows.iloc[ds_index].dt.to_pydatetime()\n",
      "/home/users/harnist/deuce-deep-probabilistic-nowcasting/datasets/fmi_dataset.py:155: FutureWarning: The behavior of DatetimeProperties.to_pydatetime is deprecated, in a future version this will return a Series containing python datetime objects instead of an ndarray. To retain the old behavior, call `np.array` on the result\n",
      "  return self.windows.iloc[ds_index].dt.to_pydatetime()\n",
      "/home/users/harnist/deuce-deep-probabilistic-nowcasting/datasets/fmi_dataset.py:155: FutureWarning: The behavior of DatetimeProperties.to_pydatetime is deprecated, in a future version this will return a Series containing python datetime objects instead of an ndarray. To retain the old behavior, call `np.array` on the result\n",
      "  return self.windows.iloc[ds_index].dt.to_pydatetime()\n",
      "/home/users/harnist/deuce-deep-probabilistic-nowcasting/datasets/fmi_dataset.py:155: FutureWarning: The behavior of DatetimeProperties.to_pydatetime is deprecated, in a future version this will return a Series containing python datetime objects instead of an ndarray. To retain the old behavior, call `np.array` on the result\n",
      "  return self.windows.iloc[ds_index].dt.to_pydatetime()\n",
      "/home/users/harnist/deuce-deep-probabilistic-nowcasting/datasets/fmi_dataset.py:155: FutureWarning: The behavior of DatetimeProperties.to_pydatetime is deprecated, in a future version this will return a Series containing python datetime objects instead of an ndarray. To retain the old behavior, call `np.array` on the result\n",
      "  return self.windows.iloc[ds_index].dt.to_pydatetime()\n",
      "/home/users/harnist/deuce-deep-probabilistic-nowcasting/datasets/fmi_dataset.py:155: FutureWarning: The behavior of DatetimeProperties.to_pydatetime is deprecated, in a future version this will return a Series containing python datetime objects instead of an ndarray. To retain the old behavior, call `np.array` on the result\n",
      "  return self.windows.iloc[ds_index].dt.to_pydatetime()\n",
      "/home/users/harnist/deuce-deep-probabilistic-nowcasting/datasets/fmi_dataset.py:155: FutureWarning: The behavior of DatetimeProperties.to_pydatetime is deprecated, in a future version this will return a Series containing python datetime objects instead of an ndarray. To retain the old behavior, call `np.array` on the result\n",
      "  return self.windows.iloc[ds_index].dt.to_pydatetime()\n",
      "/home/users/harnist/deuce-deep-probabilistic-nowcasting/datasets/fmi_dataset.py:155: FutureWarning: The behavior of DatetimeProperties.to_pydatetime is deprecated, in a future version this will return a Series containing python datetime objects instead of an ndarray. To retain the old behavior, call `np.array` on the result\n",
      "  return self.windows.iloc[ds_index].dt.to_pydatetime()\n",
      "100%|██████████| 1980/1980 [01:24<00:00, 23.50it/s]\n",
      "  0%|          | 0/333 [00:00<?, ?it/s]/home/users/harnist/deuce-deep-probabilistic-nowcasting/datasets/fmi_dataset.py:155: FutureWarning: The behavior of DatetimeProperties.to_pydatetime is deprecated, in a future version this will return a Series containing python datetime objects instead of an ndarray. To retain the old behavior, call `np.array` on the result\n",
      "  return self.windows.iloc[ds_index].dt.to_pydatetime()\n",
      "/home/users/harnist/deuce-deep-probabilistic-nowcasting/datasets/fmi_dataset.py:155: FutureWarning: The behavior of DatetimeProperties.to_pydatetime is deprecated, in a future version this will return a Series containing python datetime objects instead of an ndarray. To retain the old behavior, call `np.array` on the result\n",
      "  return self.windows.iloc[ds_index].dt.to_pydatetime()\n",
      "/home/users/harnist/deuce-deep-probabilistic-nowcasting/datasets/fmi_dataset.py:155: FutureWarning: The behavior of DatetimeProperties.to_pydatetime is deprecated, in a future version this will return a Series containing python datetime objects instead of an ndarray. To retain the old behavior, call `np.array` on the result\n",
      "  return self.windows.iloc[ds_index].dt.to_pydatetime()\n",
      "/home/users/harnist/deuce-deep-probabilistic-nowcasting/datasets/fmi_dataset.py:155: FutureWarning: The behavior of DatetimeProperties.to_pydatetime is deprecated, in a future version this will return a Series containing python datetime objects instead of an ndarray. To retain the old behavior, call `np.array` on the result\n",
      "  return self.windows.iloc[ds_index].dt.to_pydatetime()\n",
      "/home/users/harnist/deuce-deep-probabilistic-nowcasting/datasets/fmi_dataset.py:155: FutureWarning: The behavior of DatetimeProperties.to_pydatetime is deprecated, in a future version this will return a Series containing python datetime objects instead of an ndarray. To retain the old behavior, call `np.array` on the result\n",
      "  return self.windows.iloc[ds_index].dt.to_pydatetime()\n",
      "/home/users/harnist/deuce-deep-probabilistic-nowcasting/datasets/fmi_dataset.py:155: FutureWarning: The behavior of DatetimeProperties.to_pydatetime is deprecated, in a future version this will return a Series containing python datetime objects instead of an ndarray. To retain the old behavior, call `np.array` on the result\n",
      "  return self.windows.iloc[ds_index].dt.to_pydatetime()\n",
      "/home/users/harnist/deuce-deep-probabilistic-nowcasting/datasets/fmi_dataset.py:155: FutureWarning: The behavior of DatetimeProperties.to_pydatetime is deprecated, in a future version this will return a Series containing python datetime objects instead of an ndarray. To retain the old behavior, call `np.array` on the result\n",
      "  return self.windows.iloc[ds_index].dt.to_pydatetime()\n",
      "/home/users/harnist/deuce-deep-probabilistic-nowcasting/datasets/fmi_dataset.py:155: FutureWarning: The behavior of DatetimeProperties.to_pydatetime is deprecated, in a future version this will return a Series containing python datetime objects instead of an ndarray. To retain the old behavior, call `np.array` on the result\n",
      "  return self.windows.iloc[ds_index].dt.to_pydatetime()\n",
      "/home/users/harnist/deuce-deep-probabilistic-nowcasting/datasets/fmi_dataset.py:155: FutureWarning: The behavior of DatetimeProperties.to_pydatetime is deprecated, in a future version this will return a Series containing python datetime objects instead of an ndarray. To retain the old behavior, call `np.array` on the result\n",
      "  return self.windows.iloc[ds_index].dt.to_pydatetime()\n",
      "/home/users/harnist/deuce-deep-probabilistic-nowcasting/datasets/fmi_dataset.py:155: FutureWarning: The behavior of DatetimeProperties.to_pydatetime is deprecated, in a future version this will return a Series containing python datetime objects instead of an ndarray. To retain the old behavior, call `np.array` on the result\n",
      "  return self.windows.iloc[ds_index].dt.to_pydatetime()\n",
      "100%|██████████| 333/333 [00:19<00:00, 17.50it/s]\n"
     ]
    }
   ],
   "source": [
    "\n",
    "hist = None\n",
    "bins = None\n",
    "count = 0\n",
    "n = 0\n",
    "\n",
    "for i, batch in enumerate(tqdm(dm.train_dataloader())):\n",
    "    h_, bins = np.histogram(\n",
    "                batch[\"inputs\"][:, -1, :, :].numpy().ravel(), bins=n_bins, range=rng\n",
    "            )\n",
    "    count += sum(h_)\n",
    "    if hist is None:\n",
    "        hist = h_\n",
    "    else:\n",
    "        hist += h_\n",
    "\n",
    "hists[\"train\"] = {\n",
    "            \"hist\": hist,\n",
    "            \"count\": count,\n",
    "        }\n",
    "\n",
    "hist = None\n",
    "bins = None\n",
    "count = 0\n",
    "n = 0\n",
    "\n",
    "for i, batch in enumerate(tqdm(dm.val_dataloader())):\n",
    "    h_, bins = np.histogram(\n",
    "                batch[\"inputs\"][:, -1, :, :].numpy().ravel(), bins=n_bins, range=rng\n",
    "            )\n",
    "    count += sum(h_)\n",
    "    if hist is None:\n",
    "        hist = h_\n",
    "    else:\n",
    "        hist += h_\n",
    "\n",
    "hists[\"valid\"] = {\n",
    "            \"hist\": hist,\n",
    "            \"count\": count,\n",
    "        }\n"
   ]
  },
  {
   "cell_type": "code",
   "execution_count": 44,
   "metadata": {},
   "outputs": [],
   "source": [
    "%matplotlib inline"
   ]
  },
  {
   "cell_type": "code",
   "execution_count": 45,
   "metadata": {},
   "outputs": [],
   "source": [
    "hists[\"all\"] = {\n",
    "    \"hist\" : sum([hists[split][\"hist\"] for split in splits]),\n",
    "    \"count\" : sum([hists[split][\"count\"] for split in splits]),\n",
    "}"
   ]
  },
  {
   "cell_type": "code",
   "execution_count": 46,
   "metadata": {},
   "outputs": [],
   "source": [
    "hists[\"all\"][\"density\"] = hists[\"all\"][\"hist\"] / hists[\"all\"][\"count\"]"
   ]
  },
  {
   "cell_type": "code",
   "execution_count": 47,
   "metadata": {},
   "outputs": [
    {
     "data": {
      "text/plain": [
       "1750325336"
      ]
     },
     "execution_count": 47,
     "metadata": {},
     "output_type": "execute_result"
    }
   ],
   "source": [
    "hists[\"all\"][\"count\"]"
   ]
  },
  {
   "cell_type": "code",
   "execution_count": 48,
   "metadata": {},
   "outputs": [
    {
     "data": {
      "text/plain": [
       "0.021867944897302222"
      ]
     },
     "execution_count": 48,
     "metadata": {},
     "output_type": "execute_result"
    }
   ],
   "source": [
    "a = hists[\"all\"][\"density\"][40:].max()\n",
    "a"
   ]
  },
  {
   "cell_type": "code",
   "execution_count": 49,
   "metadata": {},
   "outputs": [
    {
     "data": {
      "image/png": "[encoded data removed]",
      "text/plain": [
       "<Figure size 700x500 with 1 Axes>"
      ]
     },
     "metadata": {},
     "output_type": "display_data"
    }
   ],
   "source": [
    "_, bins = np.histogram([], bins=n_bins, range=rng)\n",
    "\n",
    "ncols = 1\n",
    "nrows = 1\n",
    "fig, ax = plt.subplots(\n",
    "    figsize=(7*ncols, 5),\n",
    "    nrows=nrows,\n",
    "    ncols=ncols,\n",
    "    squeeze=True,\n",
    "    sharex=\"row\",\n",
    ")\n",
    "\n",
    "width = bins[-1] - bins[-2]\n",
    "\n",
    "ax.set_title(\"FMI reflectivity dataset distribution\", fontweight=\"semibold\")\n",
    "\n",
    "ax.bar(\n",
    "        bins[40:-1],\n",
    "        hists[\"all\"][\"density\"][40:],\n",
    "        width=width,\n",
    "        align=\"edge\",\n",
    "        color=\"gray\",\n",
    "        edgecolor=\"k\",\n",
    "        zorder=10,\n",
    "        label=\"retained pixels\"\n",
    "    )\n",
    "ax.bar(\n",
    "        bins[:40],\n",
    "        hists[\"all\"][\"density\"][:40],\n",
    "        width=width,\n",
    "        align=\"edge\",\n",
    "        color=\"gray\",\n",
    "        edgecolor=\"k\",\n",
    "        zorder=10,\n",
    "        alpha=0.3,\n",
    "        label = \"removed pixels\"\n",
    "    )\n",
    "ax.vlines(x=[9.0], ymin=0, ymax=0.04, colors=\"k\", linestyles=\"dashed\", linewidth=2, label=\"8 dBZ threshold\")\n",
    "ax.vlines(x=[bins[51]], ymin=0, ymax=0.04, colors=\"k\", linestyles=\"dotted\", linewidth=2, label=f\"{int(bins[51])} dBZ peak density\", zorder=14)\n",
    "\n",
    "def gaus(x, a, x0, sigma):\n",
    "    return a * np.exp(-(x - x0) ** 2 / (2 * sigma ** 2))\n",
    "\n",
    "from scipy.optimize import curve_fit\n",
    "\n",
    "x_to_fit = np.arange(bins[51]-len(bins[51:-1]),bins[51]+len(bins[51:-1]) )\n",
    "y_to_fit = np.concatenate([hists[\"all\"][\"density\"][51:][::-1],hists[\"all\"][\"density\"][51:]])\n",
    "\n",
    "\n",
    "popt, pcov = curve_fit(gaus, x_to_fit, y_to_fit, p0=(0.01,20,10), bounds=[[0.01,10,5],[0.05,30,15]])\n",
    "x_to_plot_fit = np.arange(-32, 60, 1)\n",
    "curve = gaus(x_to_plot_fit, *popt)\n",
    "ax.plot(x_to_plot_fit, curve, color='r', zorder=15, label=f\"gaussian fit  at > {int(bins[51])} dBZ\", alpha=0.8)\n",
    "\n",
    "\n",
    "ax.xaxis.set_major_locator(ticker.MultipleLocator(20))\n",
    "ax.xaxis.set_minor_locator(ticker.MultipleLocator(5))\n",
    "ax.xaxis.set_major_formatter(ticker.ScalarFormatter(useMathText=True))\n",
    "ax.xaxis.set_minor_formatter(ticker.NullFormatter())\n",
    "\n",
    "ax.yaxis.set_major_locator(ticker.LogLocator(base=10.0))\n",
    "ax.set_ylim(bottom=0, top=0.03)\n",
    "ax.set_xlim(rng)\n",
    "ax.grid(which=\"major\", lw=0.5, color=\"tab:gray\", ls=\"-\", zorder=0)\n",
    "ax.grid(which=\"minor\", lw=0.5, color=\"tab:gray\", ls=\"-\", alpha=0.1, zorder=0)\n",
    "\n",
    "ax.set_yscale(\"linear\")\n",
    "ax.legend()\n",
    "ax.set_ylabel(\"Density\")\n",
    "ax.set_xlabel(\"Reflectivity [dBZ]\")\n",
    "\n",
    "fig.tight_layout()\n",
    "fig.show()"
   ]
  },
  {
   "cell_type": "code",
   "execution_count": 55,
   "metadata": {},
   "outputs": [],
   "source": [
    "if SAVEFIG: \n",
    "    fig.savefig(\"data/figures/explaining_distribution.pdf\")"
   ]
  },
  {
   "cell_type": "code",
   "execution_count": 51,
   "metadata": {},
   "outputs": [
    {
     "data": {
      "text/plain": [
       "array([-31., -30., -29., -28., -27., -26., -25., -24., -23., -22., -21.,\n",
       "       -20., -19., -18., -17., -16., -15., -14., -13., -12., -11., -10.,\n",
       "        -9.,  -8.,  -7.,  -6.,  -5.,  -4.,  -3.,  -2.,  -1.,   0.,   1.,\n",
       "         2.,   3.,   4.,   5.,   6.,   7.,   8.,   9.,  10.,  11.,  12.,\n",
       "        13.,  14.,  15.,  16.,  17.,  18.,  19.,  20.,  21.,  22.,  23.,\n",
       "        24.,  25.,  26.,  27.,  28.,  29.,  30.,  31.,  32.,  33.,  34.,\n",
       "        35.,  36.,  37.,  38.,  39.,  40.,  41.,  42.,  43.,  44.,  45.,\n",
       "        46.,  47.,  48.,  49.,  50.,  51.,  52.,  53.,  54.,  55.,  56.,\n",
       "        57.,  58.,  59.,  60.])"
      ]
     },
     "execution_count": 51,
     "metadata": {},
     "output_type": "execute_result"
    }
   ],
   "source": [
    "bins"
   ]
  }
 ],
 "metadata": {
  "kernelspec": {
   "display_name": "pysteps_source",
   "language": "python",
   "name": "python3"
  },
  "language_info": {
   "codemirror_mode": {
    "name": "ipython",
    "version": 3
   },
   "file_extension": ".py",
   "mimetype": "text/x-python",
   "name": "python",
   "nbconvert_exporter": "python",
   "pygments_lexer": "ipython3",
   "version": "3.9.15"
  },
  "orig_nbformat": 4
 },
 "nbformat": 4,
 "nbformat_minor": 2
}
